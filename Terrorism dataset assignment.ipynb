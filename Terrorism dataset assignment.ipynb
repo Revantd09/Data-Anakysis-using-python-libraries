{
 "cells": [
  {
   "cell_type": "markdown",
   "id": "5e2c1454",
   "metadata": {},
   "source": [
    "### Problem Statement :\n",
    "#### Find the number of attack held between day 10 and day 20?(ignoring the year and month)(including both day)\n",
    "#### Print count of NumberOFAttack as integer value."
   ]
  },
  {
   "cell_type": "code",
   "execution_count": 5,
   "id": "c7f2c880",
   "metadata": {},
   "outputs": [
    {
     "name": "stdout",
     "output_type": "stream",
     "text": [
      "66330\n"
     ]
    }
   ],
   "source": [
    "import csv\n",
    "\n",
    "a = []\n",
    "\n",
    "with open(\"terrorismData.csv\", encoding='utf-8') as file_obj:\n",
    "    file_data=csv.reader(file_obj, skipinitialspace=True)\n",
    "\n",
    "    fList = list(file_data)\n",
    "    \n",
    "for row in fList[1:] :\n",
    "    day = int(float(row[2]))\n",
    "    \n",
    "    if day>=10 and day<=20:\n",
    "        a.append(1)\n",
    "\n",
    "print(sum(a))"
   ]
  },
  {
   "cell_type": "markdown",
   "id": "b760fcd1",
   "metadata": {},
   "source": [
    "### Problem Statement :\n",
    "#### Find the number of attack held between 1 Jan 2010 and 31 Jan 2010?(including both date).\n",
    "#### Note Ignore the case where day is 0\n",
    "#### Print count of NumberOFAttack as integer value."
   ]
  },
  {
   "cell_type": "code",
   "execution_count": 6,
   "id": "5ed8526b",
   "metadata": {},
   "outputs": [
    {
     "name": "stdout",
     "output_type": "stream",
     "text": [
      "271\n"
     ]
    }
   ],
   "source": [
    "import csv\n",
    "\n",
    "c = 0\n",
    "\n",
    "with open(\"terrorismData.csv\", encoding='utf-8') as file_obj:\n",
    "    file_data=csv.DictReader(file_obj, skipinitialspace=True)\n",
    "\n",
    "    for row in file_data :\n",
    "        \n",
    "        if row['Year'] == '2010' and row['Month'] == '1' and row['Day']!='0' :\n",
    "            c=c+1\n",
    "                \n",
    "print(c)"
   ]
  },
  {
   "cell_type": "markdown",
   "id": "b8d231ad",
   "metadata": {},
   "source": [
    "### Problem Statement :\n",
    "#### As we knew the Kargil ( in Jammu and Kashmir) War that took place between May 1999 and July 1999 (3 Months) ,so there was a huge conflict in Kashmir Valley during this period.\n",
    "#### In this dataset, there is no information regarding the war between the two countries to find out the casualty during the war.\n",
    "#### So find out the attack in this period in which maximum casualties happened.\n",
    "#### Print the count of casualties (as integer), city in which that attack happened and name of attack group.\n",
    "#### Note : Casualty = Killed + Wounded.Fill the empty value in killed or wounded feature to 0."
   ]
  },
  {
   "cell_type": "code",
   "execution_count": 7,
   "id": "41308792",
   "metadata": {},
   "outputs": [
    {
     "name": "stdout",
     "output_type": "stream",
     "text": [
      "22 Kargil District Separatists\n"
     ]
    }
   ],
   "source": [
    "## Open and read data file as specified in the question\n",
    "## Print the required output in given format\n",
    "\n",
    "import csv\n",
    "\n",
    "casualty = []\n",
    "city = []\n",
    "tGroup = []\n",
    "\n",
    "with open(\"terrorismData.csv\", encoding='utf-8') as file_obj:\n",
    "    file_data=csv.DictReader(file_obj, skipinitialspace=True)\n",
    "\n",
    "    for row in file_data :\n",
    "        \n",
    "        if row['Year'] == '1999' and row['State'] == 'Jammu and Kashmir':\n",
    "            if row['Month'] == '5' or row['Month'] == '6' or row['Month'] == '7':\n",
    "                \n",
    "                if row['Killed'] == '' :\n",
    "                    row['Killed'] = '0'   \n",
    "                    \n",
    "                if row['Wounded'] == '' :\n",
    "                    row['Wounded'] = '0'\n",
    "                \n",
    "                if row['City'] !='Unknown' and row['Group'] != 'Unknown' :\n",
    "                    \n",
    "#                         row['Killed'] = int(float(row['Killed']))\n",
    "#                         row['Wounded'] = int(float(row['Wounded']))\n",
    "\n",
    "#                         c = int(float(row['Killed'])) + int(float(row['Wounded']))\n",
    "\n",
    "                        casualty.append(int(float(row['Killed'])) + int(float(row['Wounded'])))\n",
    "                        city.append(row['City'])\n",
    "                        tGroup.append(row['Group'])\n",
    "                        \n",
    "i = casualty.index(max(casualty))\n",
    "print(casualty[i], city[i], tGroup[i])"
   ]
  },
  {
   "cell_type": "markdown",
   "id": "ae09fd59",
   "metadata": {},
   "source": [
    "### Problem Statement :\n",
    "#### Find the casualty in the Red Corridor States ? Mainly Red corridor states include Jharkhand, Odisha, Andhra Pradesh, and Chhattisgarh.\n",
    "#### Note: Casualty=Killed +Wounded\n",
    "#### Print count of Casualty as integer value."
   ]
  },
  {
   "cell_type": "code",
   "execution_count": 8,
   "id": "a5b20040",
   "metadata": {},
   "outputs": [
    {
     "name": "stdout",
     "output_type": "stream",
     "text": [
      "5628\n"
     ]
    }
   ],
   "source": [
    "import csv\n",
    "\n",
    "casualty = []\n",
    "\n",
    "with open(\"terrorismData.csv\", encoding='utf-8') as file_obj:\n",
    "    file_data=csv.DictReader(file_obj, skipinitialspace=True)\n",
    "\n",
    "    for row in file_data :\n",
    "        if row['State'] == 'Jharkhand' or row['State'] == 'Odisha' or row['State'] == 'Andhra Pradesh' or row['State'] == 'Chhattisgarh' :\n",
    "            if row['Killed'] == '' :\n",
    "                row['Killed'] = '0'\n",
    "            if row['Wounded'] == '' :\n",
    "                row['Wounded'] = '0'\n",
    "\n",
    "#             row['Killed'] = int(float(row['Killed']))\n",
    "#             row['Wounded'] = int(float(row['Wounded']))\n",
    "\n",
    "#             c = row['Killed'] + row['Wounded']\n",
    "\n",
    "#             casualty.append(c)\n",
    "            casualty.append(int(float(row['Killed'])) + int(float(row['Wounded'])))\n",
    "            \n",
    "print(sum(casualty))"
   ]
  },
  {
   "cell_type": "markdown",
   "id": "cb25e281",
   "metadata": {},
   "source": [
    "### Problem Statement :\n",
    "#### Find top 5 Indian Cities which has most number of casualties ?\n",
    "#### Print top 5 cities along with total casualties in that city. Print count of Casualty as integer value.\n",
    "#### Note: Ignoring the City which is Unknown.\n",
    "#### Casualty = Killed + Wounded."
   ]
  },
  {
   "cell_type": "code",
   "execution_count": 9,
   "id": "fe9abc75",
   "metadata": {},
   "outputs": [
    {
     "name": "stdout",
     "output_type": "stream",
     "text": [
      "Srinagar 3134\n",
      "New Delhi 2095\n",
      "Mumbai 2016\n",
      "Jammu 1119\n",
      "Guwahati 822\n"
     ]
    }
   ],
   "source": [
    "import csv\n",
    "import operator \n",
    "import itertools\n",
    "\n",
    "casualty = []\n",
    "city = []\n",
    "\n",
    "with open(\"terrorismData.csv\", encoding='utf-8') as file_obj:\n",
    "    file_data=csv.DictReader(file_obj, skipinitialspace=True)\n",
    "\n",
    "    for row in file_data :\n",
    "        if row['Country'] == 'India' and row['City'] != 'Unknown':          \n",
    "            if row['Killed'] == '' :\n",
    "                row['Killed'] = '0'   \n",
    "            if row['Wounded'] == '' :\n",
    "                row['Wounded'] = '0'\n",
    "\n",
    "            casualty.append(int(float(row['Killed'])) + int(float(row['Wounded'])))\n",
    "            city.append(row['City'])\n",
    "\n",
    "freq = {}\n",
    "\n",
    "for i in range(len(city)):\n",
    "    if city[i] in freq:\n",
    "        freq[city[i]] = freq[city[i]] + casualty[i]\n",
    "    else:\n",
    "        freq[city[i]] = casualty[i]\n",
    "        \n",
    "sorted_dict = dict( sorted(freq.items(), key=operator.itemgetter(1),reverse=True))\n",
    "out = dict(itertools.islice(sorted_dict.items(), 5))\n",
    "\n",
    "for key in out:\n",
    "    print(key, freq[key])"
   ]
  },
  {
   "cell_type": "markdown",
   "id": "791ad6c9",
   "metadata": {},
   "source": [
    "### Problem Statement :\n",
    "#### Find the most frequent day of attack in a terrorismDataset ?\n",
    "#### Note: Here np.unique can be used.\n",
    "#### Print count of frequent day and number of attack as Integer value."
   ]
  },
  {
   "cell_type": "code",
   "execution_count": 10,
   "id": "aa3c484b",
   "metadata": {},
   "outputs": [
    {
     "name": "stdout",
     "output_type": "stream",
     "text": [
      "15 6500\n"
     ]
    }
   ],
   "source": [
    "import csv\n",
    "\n",
    "day = []\n",
    "\n",
    "with open(\"terrorismData.csv\", encoding='utf-8') as file_obj:\n",
    "    file_data=csv.DictReader(file_obj, skipinitialspace=True)\n",
    "\n",
    "    for row in file_data :\n",
    "            day.append(row['Day'])\n",
    "\n",
    "d = {}\n",
    "for i in range(len(day)):\n",
    "    if day[i] in d:\n",
    "        d[day[i]] = d[day[i]] + 1\n",
    "    else:\n",
    "        d[day[i]] = 1\n",
    "\n",
    "d = sorted(d.items(), key=lambda x: x[1], reverse=True)\n",
    "\n",
    "print(*d[0])"
   ]
  },
  {
   "cell_type": "markdown",
   "id": "6df8f88c",
   "metadata": {},
   "source": [
    "###  Problem Statement :\n",
    "#### The Most Dangerous city in Jammu and Kashmir and the terrorist group which is most active in that city?\n",
    "#### Print count of number of attacks in that city as integer value.\n",
    "#### Note:Ignoring the Unknown Terrorist Group.Here Dangerous related with the number of terrorist attacks."
   ]
  },
  {
   "cell_type": "code",
   "execution_count": 11,
   "id": "1a1c316a",
   "metadata": {},
   "outputs": [
    {
     "name": "stdout",
     "output_type": "stream",
     "text": [
      "Srinagar 657 Muslim Separatists\n"
     ]
    }
   ],
   "source": [
    "import pandas as pd\n",
    "df = pd.read_csv('terrorismData.csv')\n",
    "\n",
    "df = df[df.State=='Jammu and Kashmir']\n",
    "df_list = df['City'].value_counts()\n",
    "city = df_list.index[0]\n",
    "count = df_list.values[0]\n",
    "\n",
    "df = df[df['City']==city]\n",
    "group = df['Group'].value_counts().index[1]\n",
    "\n",
    "print(city,count,group)"
   ]
  },
  {
   "cell_type": "markdown",
   "id": "13c3c432",
   "metadata": {},
   "source": [
    "###  Problem Statement :\n",
    "#### There was formation of new government in India on 26 May 2014. So current government's span is from 26th May 2014 to current. Find out two things from this period-\n",
    "#### 1. Total number of attacks done in this period in India. Find this count as integer.\n",
    "#### 2. Which Terrorist group was most active in this period in India. Most active means, group which has done maximum number of attacks. \n",
    "#### 3.Ignore the Unknown group. "
   ]
  },
  {
   "cell_type": "code",
   "execution_count": 4,
   "id": "31291d26",
   "metadata": {},
   "outputs": [
    {
     "name": "stdout",
     "output_type": "stream",
     "text": [
      "3336 Maoists\n"
     ]
    }
   ],
   "source": [
    "import pandas as pd\n",
    "import numpy as np\n",
    "df = pd.read_csv('terrorismData.csv')\n",
    "\n",
    "a = df[df.Day>=26]\n",
    "b = a[a.Year==2014]\n",
    "c = b[b.Country=='India']\n",
    "ans1 = c[c.Month==5]\n",
    "\n",
    "d = df[df.Year==2014]\n",
    "e = d[d.Country=='India']\n",
    "ans2 = e[e.Month>5]\n",
    "\n",
    "f = df[df.Country=='India']\n",
    "ans3 = f[f.Year>2014]\n",
    "\n",
    "count = ans1.shape[0] + ans2.shape[0] + ans3.shape[0]\n",
    "\n",
    "ans1=ans1[ans1.Group!='Unknown']\n",
    "ans2=ans2[ans2.Group!='Unknown']\n",
    "ans3=ans3[ans3.Group!='Unknown']\n",
    "\n",
    "print(count,ans3.Group.describe().top)"
   ]
  },
  {
   "cell_type": "markdown",
   "id": "709c8cf8",
   "metadata": {},
   "source": [
    "### Problem Statement :\n",
    "#### Find the frequency of the Casualty in Red Corridor states and in Jammu and Kashmir ?Here Frequency is (Total Casualty/Total Number of a year)\n",
    "#### Print frequency as integer value.\n",
    "#### Note:Red Corridor state includes Jharkhand, Odisha, Andhra Pradesh, and Chhattisgarh. Here Casualty=Killed +Wounded.Don't fill the nan value present in Killed and Wounded feature."
   ]
  },
  {
   "cell_type": "code",
   "execution_count": 12,
   "id": "4182f9ff",
   "metadata": {},
   "outputs": [
    {
     "name": "stdout",
     "output_type": "stream",
     "text": [
      "115 261\n"
     ]
    }
   ],
   "source": [
    "import pandas as pd\n",
    "import numpy as np\n",
    "df = pd.read_csv('terrorismData.csv')\n",
    "\n",
    "year = len(set(df['Year']))\n",
    "\n",
    "df = df[df.Country == 'India']\n",
    "df['Casualty'] = df['Killed'] + df['Wounded']\n",
    "\n",
    "jk = df[df.State == 'Jammu and Kashmir']\n",
    "rc = df[(df.State == 'Jharkhand') | (df.State == 'Odisha') | (df.State == 'Andhra Pradesh') | (df.State == 'Chhattisgarh')]\n",
    "\n",
    "jkc = int(np.sum(jk['Casualty']))\n",
    "rcc = int(np.sum(rc['Casualty']))\n",
    "\n",
    "print(rcc//year,jkc//year)"
   ]
  },
  {
   "cell_type": "markdown",
   "id": "424e2405",
   "metadata": {},
   "source": [
    "### Problem Statement :\n",
    "#### Most Deadliest attack in a history of HumanKind?\n",
    "#### Print count of Killed people as integer value.\n",
    "#### Note: Here Deadliest attack means, in which the most number of people killed.\n",
    "#### Output Format :\n",
    "#### NumberOfPeopleKilled Country TerroristGroup"
   ]
  },
  {
   "cell_type": "code",
   "execution_count": 13,
   "id": "ed2cae9b",
   "metadata": {},
   "outputs": [
    {
     "name": "stdout",
     "output_type": "stream",
     "text": [
      "1570 Iraq Islamic State of Iraq and the Levant (ISIL)\n"
     ]
    }
   ],
   "source": [
    "import pandas as pd\n",
    "df = pd.read_csv('terrorismData.csv')\n",
    "\n",
    "df = df[df.Killed==df.Killed.max()]\n",
    "mx_killed = df.Killed.iloc[0]\n",
    "country = df.Country.iloc[0]\n",
    "group = df.Group.iloc[0]\n",
    "print(int(mx_killed), country, group)"
   ]
  },
  {
   "cell_type": "markdown",
   "id": "ebeffd7d",
   "metadata": {},
   "source": [
    "### Problem Statement :\n",
    "#### Find out the Country with Highest Number of Terror Attack and in which year the most number of terrorist attack happened in that country ?\n",
    "#### Print count of terror attacks as integer value."
   ]
  },
  {
   "cell_type": "code",
   "execution_count": 14,
   "id": "8c3d7e74",
   "metadata": {},
   "outputs": [
    {
     "name": "stdout",
     "output_type": "stream",
     "text": [
      "Iraq 24636 2014\n"
     ]
    }
   ],
   "source": [
    "import pandas as pd\n",
    "df = pd.read_csv('terrorismData.csv')\n",
    "\n",
    "df_list = df['Country'].value_counts()\n",
    "country = df_list.index[0]\n",
    "attack = df_list.values[0]\n",
    "\n",
    "df = df[df['Country']==country]\n",
    "year = df['Year'].value_counts().index[0]\n",
    "\n",
    "print(country,attack,year)"
   ]
  },
  {
   "cell_type": "code",
   "execution_count": null,
   "id": "a096da92",
   "metadata": {},
   "outputs": [],
   "source": []
  },
  {
   "cell_type": "code",
   "execution_count": null,
   "id": "3eb48803",
   "metadata": {},
   "outputs": [],
   "source": []
  },
  {
   "cell_type": "code",
   "execution_count": null,
   "id": "73caf37e",
   "metadata": {},
   "outputs": [],
   "source": []
  },
  {
   "cell_type": "code",
   "execution_count": null,
   "id": "8cb8d9fb",
   "metadata": {},
   "outputs": [],
   "source": []
  },
  {
   "cell_type": "code",
   "execution_count": null,
   "id": "65ad390c",
   "metadata": {},
   "outputs": [],
   "source": []
  },
  {
   "cell_type": "code",
   "execution_count": null,
   "id": "e6c1cbbb",
   "metadata": {},
   "outputs": [],
   "source": []
  },
  {
   "cell_type": "code",
   "execution_count": null,
   "id": "f69855a6",
   "metadata": {},
   "outputs": [],
   "source": []
  }
 ],
 "metadata": {
  "kernelspec": {
   "display_name": "Python 3 (ipykernel)",
   "language": "python",
   "name": "python3"
  },
  "language_info": {
   "codemirror_mode": {
    "name": "ipython",
    "version": 3
   },
   "file_extension": ".py",
   "mimetype": "text/x-python",
   "name": "python",
   "nbconvert_exporter": "python",
   "pygments_lexer": "ipython3",
   "version": "3.9.7"
  }
 },
 "nbformat": 4,
 "nbformat_minor": 5
}
